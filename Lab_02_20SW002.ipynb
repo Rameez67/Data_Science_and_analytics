{
  "nbformat": 4,
  "nbformat_minor": 0,
  "metadata": {
    "colab": {
      "provenance": []
    },
    "kernelspec": {
      "name": "python3",
      "display_name": "Python 3"
    },
    "language_info": {
      "name": "python"
    }
  },
  "cells": [
    {
      "cell_type": "markdown",
      "source": [
        "*Lab # 02: Control Flows in Python*"
      ],
      "metadata": {
        "id": "AzBleuybM-L3"
      }
    },
    {
      "cell_type": "markdown",
      "source": [
        "Class Practice"
      ],
      "metadata": {
        "id": "3DEwBs59O8e2"
      }
    },
    {
      "cell_type": "code",
      "execution_count": null,
      "metadata": {
        "colab": {
          "base_uri": "https://localhost:8080/"
        },
        "id": "7JLjCznhFOiL",
        "outputId": "ab8fbf6f-5c6f-4ee2-b553-21112026cf6a"
      },
      "outputs": [
        {
          "output_type": "stream",
          "name": "stdout",
          "text": [
            "Enter your age20\n",
            "2.5\n"
          ]
        }
      ],
      "source": [
        "#First Example -try changing the value of phone_balance\n",
        "phone_balance = 10\n",
        "bank_balance = 50\n",
        "if phone_balance < 10:\n",
        "  phone_balance += 10\n",
        "  bank_balance -= 10\n",
        "  print(phone_balance)\n",
        "  print(bank_balance)\n",
        "#Second Example -try changing the value of number\n",
        "# number = 145\n",
        "# if number % 2 == 0:\n",
        "#   print(\"Number \" + str(number) + \" is even.\")\n",
        "# else:\n",
        "#   print(\"Number \" + str(number) + \" is odd.\")\n",
        "#Third Example -try to change the value of age\n",
        "age = int(input(\"Enter your age\"))\n",
        "# Here are the age limits for bus fares\n",
        "free_up_to_age = 4\n",
        "child_up_to_age = 18\n",
        "senior_from_age = 65\n",
        "# These lines determine the bus fare prices\n",
        "concession_ticket = 1.25\n",
        "adult_ticket = 2.50\n",
        "# Here is the logic for bus fare prices\n",
        "if age <= free_up_to_age:\n",
        "  ticket_price = 0\n",
        "elif age <= child_up_to_age:\n",
        "  ticket_price = concession_ticket\n",
        "elif age >= senior_from_age:\n",
        "  ticket_price = concession_ticket\n",
        "else:\n",
        "  ticket_price = adult_ticket\n",
        "\n",
        "print(ticket_price)"
      ]
    },
    {
      "cell_type": "code",
      "source": [
        "cities = [\"HYD\",\"KHI\",\"LHR\",\"ISL\"]\n",
        "for i in range(1,10):\n",
        "  print(i)\n",
        "\n",
        "for city in cities:\n",
        "  print(city)\n",
        "\n",
        "list = []\n",
        "list2 = []\n",
        "for i in range(1,30):\n",
        "  if i%2 == 0:\n",
        "    list.append(i**2)\n",
        "  else:\n",
        "    list2.append(i**3)\n",
        "print(list)\n",
        "print(list2)"
      ],
      "metadata": {
        "colab": {
          "base_uri": "https://localhost:8080/"
        },
        "id": "zIgJqkW9IM46",
        "outputId": "7883191d-945b-4f22-f31e-ceafad0d699f"
      },
      "execution_count": null,
      "outputs": [
        {
          "output_type": "stream",
          "name": "stdout",
          "text": [
            "1\n",
            "2\n",
            "3\n",
            "4\n",
            "5\n",
            "6\n",
            "7\n",
            "8\n",
            "9\n",
            "HYD\n",
            "KHI\n",
            "LHR\n",
            "ISL\n",
            "[4, 16, 36, 64, 100, 144, 196, 256, 324, 400, 484, 576, 676, 784]\n",
            "[1, 27, 125, 343, 729, 1331, 2197, 3375, 4913, 6859, 9261, 12167, 15625, 19683, 24389]\n"
          ]
        }
      ]
    },
    {
      "cell_type": "code",
      "source": [
        "list3 = [i**2 if i%2==0 else i+3 for i in range(1,30)]\n",
        "list3"
      ],
      "metadata": {
        "colab": {
          "base_uri": "https://localhost:8080/"
        },
        "id": "3Su-z-7dJ05k",
        "outputId": "958786b8-a929-43f6-8c53-40133946dab7"
      },
      "execution_count": null,
      "outputs": [
        {
          "output_type": "execute_result",
          "data": {
            "text/plain": [
              "[4,\n",
              " 4,\n",
              " 6,\n",
              " 16,\n",
              " 8,\n",
              " 36,\n",
              " 10,\n",
              " 64,\n",
              " 12,\n",
              " 100,\n",
              " 14,\n",
              " 144,\n",
              " 16,\n",
              " 196,\n",
              " 18,\n",
              " 256,\n",
              " 20,\n",
              " 324,\n",
              " 22,\n",
              " 400,\n",
              " 24,\n",
              " 484,\n",
              " 26,\n",
              " 576,\n",
              " 28,\n",
              " 676,\n",
              " 30,\n",
              " 784,\n",
              " 32]"
            ]
          },
          "metadata": {},
          "execution_count": 23
        }
      ]
    },
    {
      "cell_type": "markdown",
      "source": [
        "Task # 01"
      ],
      "metadata": {
        "id": "NbGZdtqgO4fW"
      }
    },
    {
      "cell_type": "code",
      "source": [
        "points = 174\n",
        "\n",
        "if points <= 50:\n",
        "    result = \"Congrats wooden rabbit!\"\n",
        "elif points <= 150:\n",
        "    result = \"No prize ):\"\n",
        "elif points <= 180:\n",
        "    result = \"Congrats! You won a wafer-thin mint!\"\n",
        "else:\n",
        "    result = \"Congrats! You won a penguin!\"\n",
        "\n",
        "print(result)"
      ],
      "metadata": {
        "colab": {
          "base_uri": "https://localhost:8080/"
        },
        "id": "7opspXolOPrs",
        "outputId": "f30cdbca-0b02-4c0e-f91a-03c93f0bf9f5"
      },
      "execution_count": null,
      "outputs": [
        {
          "output_type": "stream",
          "name": "stdout",
          "text": [
            "Congrats! You won a wafer-thin mint!\n"
          ]
        }
      ]
    },
    {
      "cell_type": "markdown",
      "source": [
        "Task # 02"
      ],
      "metadata": {
        "id": "ffvhLZxROtRH"
      }
    },
    {
      "cell_type": "code",
      "source": [
        "# Assuming 'answer' contains the number you are hiding and 'guess' contains the user's input\n",
        "\n",
        "answer = 42  # You can replace this with any number you want to hide\n",
        "\n",
        "# Get the user's guess as input\n",
        "guess = int(input(\"Take a guess: \"))\n",
        "\n",
        "# Compare the user's guess to the answer\n",
        "if guess < answer:\n",
        "    print(\"Your guess was too low.\")\n",
        "elif guess > answer:\n",
        "    print(\"Your guess was too high.\")\n",
        "else:\n",
        "    print(\"Congratulations! You guessed the correct number!\")"
      ],
      "metadata": {
        "colab": {
          "base_uri": "https://localhost:8080/"
        },
        "id": "VvpsqVTKNRY-",
        "outputId": "a58b4bd1-1451-47b5-83ad-1e22c2507490"
      },
      "execution_count": null,
      "outputs": [
        {
          "output_type": "stream",
          "name": "stdout",
          "text": [
            "Take a guess: 5\n",
            "Your guess is too low.\n"
          ]
        }
      ]
    },
    {
      "cell_type": "markdown",
      "source": [
        "Task # 03"
      ],
      "metadata": {
        "id": "3FYK1HvxOytQ"
      }
    },
    {
      "cell_type": "code",
      "source": [
        "def calculate_tax(state, amount):\n",
        "    # Dictionary to store the tax rates for each state\n",
        "    tax_rates = {\n",
        "        'CA': 0.075,\n",
        "        'MN': 0.095,\n",
        "        'NY': 0.089\n",
        "    }\n",
        "\n",
        "    # Check if the provided state exists in the tax_rates dictionary\n",
        "    if state in tax_rates:\n",
        "        tax_rate = tax_rates[state]\n",
        "        tax_amount = amount * tax_rate\n",
        "        total_amount = amount + tax_amount\n",
        "        return total_amount\n",
        "    else:\n",
        "        raise ValueError(\"Invalid state. Tax rate for the provided state is not available.\")\n",
        "\n",
        "# Example usage:\n",
        "state = input(\"Enter your state (CA, MN, or NY): \")\n",
        "amount = float(input(\"Enter the purchase amount: \"))\n",
        "\n",
        "try:\n",
        "    total_amount_with_tax = calculate_tax(state, amount)\n",
        "    print(f\"Total amount with tax: ${total_amount_with_tax:.2f}\")\n",
        "except ValueError as e:\n",
        "    print(str(e))\n"
      ],
      "metadata": {
        "colab": {
          "base_uri": "https://localhost:8080/"
        },
        "id": "9V1chn0KOSIv",
        "outputId": "38247ade-069c-4716-dcbf-647da3a4f607"
      },
      "execution_count": null,
      "outputs": [
        {
          "output_type": "stream",
          "name": "stdout",
          "text": [
            "Enter your state (CA, MN, or NY): NY\n",
            "Enter the purchase amount: 50\n",
            "Total amount with tax: $54.45\n"
          ]
        }
      ]
    },
    {
      "cell_type": "markdown",
      "source": [
        "Task # 04"
      ],
      "metadata": {
        "id": "rndLAOhUO1o_"
      }
    },
    {
      "cell_type": "code",
      "source": [
        "sentence = [\"the\", \"quick\", \"brown\", \"fox\", \"jumped\", \"over\", \"the\", \"lazy\", \"dog\"]\n",
        "\n",
        "# Using a for loop to print each element of the list on its own line\n",
        "for word in sentence:\n",
        "    print(word)"
      ],
      "metadata": {
        "colab": {
          "base_uri": "https://localhost:8080/"
        },
        "id": "4AXZbChYOrvW",
        "outputId": "3ef3b9b0-d19c-4685-ef22-5c033752360c"
      },
      "execution_count": null,
      "outputs": [
        {
          "output_type": "stream",
          "name": "stdout",
          "text": [
            "the\n",
            "quick\n",
            "brown\n",
            "fox\n",
            "jumped\n",
            "over\n",
            "the\n",
            "lazy\n",
            "dog\n"
          ]
        }
      ]
    },
    {
      "cell_type": "markdown",
      "source": [
        "Task # 05"
      ],
      "metadata": {
        "id": "N9u0auVOPk8W"
      }
    },
    {
      "cell_type": "code",
      "source": [
        "# Using a for loop to print multiples of 5 less than or equal to 30\n",
        "for number in range(5, 31, 5):\n",
        "    print(number)\n"
      ],
      "metadata": {
        "id": "i3f0r3rLPlnz"
      },
      "execution_count": null,
      "outputs": []
    },
    {
      "cell_type": "markdown",
      "source": [
        "Task # 06"
      ],
      "metadata": {
        "id": "3_1mFZ7lPsI-"
      }
    },
    {
      "cell_type": "code",
      "source": [
        "names = [\"Rick Sanchez\", \"Morty Smith\", \"Summer Smith\", \"Jerry Smith\", \"Beth Smith\"]\n",
        "\n",
        "# Using list comprehension to extract the first names in lowercase\n",
        "first_names = [name.split()[0].lower() for name in names]\n",
        "\n",
        "print(first_names)"
      ],
      "metadata": {
        "colab": {
          "base_uri": "https://localhost:8080/"
        },
        "id": "hTlY4lbjPuSu",
        "outputId": "bc6c6052-ae9a-4a22-b4e4-28bc65cbc67d"
      },
      "execution_count": null,
      "outputs": [
        {
          "output_type": "stream",
          "name": "stdout",
          "text": [
            "['rick', 'morty', 'summer', 'jerry', 'beth']\n"
          ]
        }
      ]
    },
    {
      "cell_type": "markdown",
      "source": [
        "Task # 07"
      ],
      "metadata": {
        "id": "Rww7Rmp-Pzm2"
      }
    },
    {
      "cell_type": "code",
      "source": [
        "# Using list comprehension to create a list of the first 20 multiples of 3\n",
        "multiples_3 = [num * 3 for num in range(1, 21)]\n",
        "\n",
        "print(multiples_3)\n"
      ],
      "metadata": {
        "colab": {
          "base_uri": "https://localhost:8080/"
        },
        "id": "BUbGIW4RQ7C2",
        "outputId": "57f81d74-3d94-4375-87e1-1c792281f426"
      },
      "execution_count": null,
      "outputs": [
        {
          "output_type": "stream",
          "name": "stdout",
          "text": [
            "[3, 6, 9, 12, 15, 18, 21, 24, 27, 30, 33, 36, 39, 42, 45, 48, 51, 54, 57, 60]\n"
          ]
        }
      ]
    },
    {
      "cell_type": "markdown",
      "source": [
        "Task # 08"
      ],
      "metadata": {
        "id": "vJOQ3wcDP1rA"
      }
    },
    {
      "cell_type": "code",
      "source": [
        "scores = {\n",
        "    \"Rick Sanchez\": 70,\n",
        "    \"Morty Smith\": 35,\n",
        "    \"Summer Smith\": 82,\n",
        "    \"Jerry Smith\": 23,\n",
        "    \"Beth Smith\": 98\n",
        "}\n",
        "\n",
        "# Using list comprehension to filter names of individuals who scored at least 65\n",
        "passed = [name for name, score in scores.items() if score >= 65]\n",
        "\n",
        "print(passed)"
      ],
      "metadata": {
        "colab": {
          "base_uri": "https://localhost:8080/"
        },
        "id": "PUiTTA8MQ7ZP",
        "outputId": "580d53d7-8a2a-40b9-d0da-ec92343a3de1"
      },
      "execution_count": null,
      "outputs": [
        {
          "output_type": "stream",
          "name": "stdout",
          "text": [
            "['Rick Sanchez', 'Summer Smith', 'Beth Smith']\n"
          ]
        }
      ]
    },
    {
      "cell_type": "markdown",
      "source": [
        "Task # 09"
      ],
      "metadata": {
        "id": "lyoqD7jgQytN"
      }
    },
    {
      "cell_type": "code",
      "source": [
        "cast_names = [\"Barney\", \"Robin\", \"Ted\", \"Lily\", \"Marshall\"]\n",
        "cast_heights = [72, 68, 72, 66, 76]\n",
        "\n",
        "# Using zip() to create the dictionary 'cast'\n",
        "cast = dict(zip(cast_names, cast_heights))\n",
        "\n",
        "print(cast)"
      ],
      "metadata": {
        "colab": {
          "base_uri": "https://localhost:8080/"
        },
        "id": "cuzEfC2lQ7yt",
        "outputId": "bbe20253-e436-4250-e03e-85ae25a3f358"
      },
      "execution_count": null,
      "outputs": [
        {
          "output_type": "stream",
          "name": "stdout",
          "text": [
            "{'Barney': 72, 'Robin': 68, 'Ted': 72, 'Lily': 66, 'Marshall': 76}\n"
          ]
        }
      ]
    },
    {
      "cell_type": "markdown",
      "source": [
        "Task # 10"
      ],
      "metadata": {
        "id": "J3WAzx5nQ3Ev"
      }
    },
    {
      "cell_type": "code",
      "source": [
        "cast = [\"Barney Stinson\", \"Robin Scherbatsky\", \"Ted Mosby\", \"Lily Aldrin\", \"Marshall Eriksen\"]\n",
        "heights = [72, 68, 72, 66, 76]\n",
        "\n",
        "# Using enumerate() and a for loop to modify the 'cast' list\n",
        "for index, name in enumerate(cast):\n",
        "    height = heights[index]\n",
        "    cast[index] = f\"{name}{height}\"\n",
        "\n",
        "print(cast)\n"
      ],
      "metadata": {
        "colab": {
          "base_uri": "https://localhost:8080/"
        },
        "id": "TrsR3bsAQ8WF",
        "outputId": "0e12d7bb-f919-4ebb-a4b9-f5c921d7c7ae"
      },
      "execution_count": null,
      "outputs": [
        {
          "output_type": "stream",
          "name": "stdout",
          "text": [
            "['Barney Stinson72', 'Robin Scherbatsky68', 'Ted Mosby72', 'Lily Aldrin66', 'Marshall Eriksen76']\n"
          ]
        }
      ]
    }
  ]
}