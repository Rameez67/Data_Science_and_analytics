{
  "nbformat": 4,
  "nbformat_minor": 0,
  "metadata": {
    "colab": {
      "provenance": [],
      "authorship_tag": "ABX9TyNLmdiUxSlsddDjgHs7K4w0",
      "include_colab_link": true
    },
    "kernelspec": {
      "name": "python3",
      "display_name": "Python 3"
    },
    "language_info": {
      "name": "python"
    }
  },
  "cells": [
    {
      "cell_type": "markdown",
      "metadata": {
        "id": "view-in-github",
        "colab_type": "text"
      },
      "source": [
        "<a href=\"https://colab.research.google.com/github/Rameez67/Data_Science_and_analytics/blob/main/lab_01_20sw002.ipynb\" target=\"_parent\"><img src=\"https://colab.research.google.com/assets/colab-badge.svg\" alt=\"Open In Colab\"/></a>"
      ]
    },
    {
      "cell_type": "markdown",
      "source": [
        "Roll number= 20sw002\n",
        "Task = lab#1\n",
        "Section=II"
      ],
      "metadata": {
        "id": "n317opyjLv4x"
      }
    },
    {
      "cell_type": "markdown",
      "source": [
        "Task##01"
      ],
      "metadata": {
        "id": "KQKekhrkMpO9"
      }
    },
    {
      "cell_type": "code",
      "execution_count": null,
      "metadata": {
        "colab": {
          "base_uri": "https://localhost:8080/"
        },
        "id": "1wK9rgzsHcJ2",
        "outputId": "4b20c61d-41e1-4b16-ad5a-198685591012"
      },
      "outputs": [
        {
          "output_type": "stream",
          "name": "stdout",
          "text": [
            " I am Rameez Ahmed and My roll number is 20sw002\n"
          ]
        }
      ],
      "source": [
        "name=\"Rameez Ahmed\"\n",
        "Roll_num = \"20sw002\"\n",
        "\n",
        "print(\" I am {} and My roll number is {}\".format(name, Roll_num))"
      ]
    },
    {
      "cell_type": "markdown",
      "source": [
        "Task##02"
      ],
      "metadata": {
        "id": "Wv07snShN82d"
      }
    },
    {
      "cell_type": "code",
      "source": [
        "name=\"rameez ahmed\"\n",
        "Roll_num=\"20sw002\"\n",
        "\n",
        "\n",
        "\n",
        "print(name.capitalize())\n",
        "print(Roll_num.islower())\n",
        "print(name.upper())\n",
        "print(name.swapcase())\n",
        "print(name.replace('rameez','sohail'))"
      ],
      "metadata": {
        "colab": {
          "base_uri": "https://localhost:8080/"
        },
        "id": "az-R0_eeMxIS",
        "outputId": "3c1ecb55-4066-4546-9d5b-afa0f962ebcd"
      },
      "execution_count": null,
      "outputs": [
        {
          "output_type": "stream",
          "name": "stdout",
          "text": [
            "Rameez ahmed\n",
            "True\n",
            "RAMEEZ AHMED\n",
            "RAMEEZ AHMED\n",
            "sohail ahmed\n"
          ]
        }
      ]
    },
    {
      "cell_type": "markdown",
      "source": [
        "Task##03"
      ],
      "metadata": {
        "id": "dMVh2emEO22W"
      }
    },
    {
      "cell_type": "code",
      "source": [
        "month = 8\n",
        "days_in_month = [31,28,31,30,31,30,31,31,30,31,30,31]\n",
        "\n",
        "num_of_day=days_in_month[month-1]\n",
        "\n",
        "print(num_of_day)\n"
      ],
      "metadata": {
        "colab": {
          "base_uri": "https://localhost:8080/"
        },
        "id": "KWJ6SbvVO56M",
        "outputId": "e639b168-e7e9-4859-bc96-ba52efcdf57d"
      },
      "execution_count": null,
      "outputs": [
        {
          "output_type": "stream",
          "name": "stdout",
          "text": [
            "31\n"
          ]
        }
      ]
    },
    {
      "cell_type": "markdown",
      "source": [
        "Task##04"
      ],
      "metadata": {
        "id": "dRRG5NpARAtF"
      }
    },
    {
      "cell_type": "code",
      "source": [
        "dates = ['June 21, 2001', 'December 4, 2002', 'November 23, 2003','March 29, 2006',\n",
        "         'August 1, 2008', 'July 22, 2009','July 11, 2010', 'November 13, 2012', 'March 20, 2015','March 9, 2016']\n",
        "selDates = dates[-3:]\n",
        "print(selDates)\n"
      ],
      "metadata": {
        "colab": {
          "base_uri": "https://localhost:8080/"
        },
        "id": "nDD2erhXRDh1",
        "outputId": "0e1e60b1-9c42-4de5-b4fb-f82546f86926"
      },
      "execution_count": null,
      "outputs": [
        {
          "output_type": "stream",
          "name": "stdout",
          "text": [
            "['November 13, 2012', 'March 20, 2015', 'March 9, 2016']\n"
          ]
        }
      ]
    },
    {
      "cell_type": "markdown",
      "source": [
        "Task##05"
      ],
      "metadata": {
        "id": "PQcUqKQ1SeFg"
      }
    },
    {
      "cell_type": "code",
      "source": [
        "\n",
        "student = {\"20sw02\": {'name': 'Rameez', 'age': '18', 'gender': 'Male',\"District\":\"Jacobabad\",\"Section\":\"ii\",\"University\":\"MUET jamshoro\"},\n",
        "          \"20sw022\": {'name': 'waseem', 'age': '22', 'gender': 'Male',\"District\":\"Khairpur Mirs\",\"Section\":\"ii\",\"University\":\"MUET jamshoro\"},\n",
        "          \"20sw046\": {'name': 'Zameer', 'age': '22', 'gender': 'Male',\"District\":\"Dadu\",\"Section\":\"ii\",\"University\":\"MUET jamshoro\"},\n",
        "          \"20sw015\": {'name': 'Ammar Raza', 'age': '20', 'gender': 'Male',\"District\":\"Nawabshah\",\"Section\":\"ii\",\"University\":\"MUET jamshoro\"},\n",
        "          \"20sw078\": {'name': 'Musadique', 'age': '18', 'gender': 'Male',\"District\":\"Hyderabad\",\"Section\":\"ii\",\"University\":\"MUET jamshoro\"},\n",
        "          \"20sw084\": {'name': 'Junaid', 'age': '22', 'gender': 'Male',\"District\":\"Hyderbad\",\"Section\":\"ii\",\"University\":\"MUET jamshoro\"}}\n",
        "\n",
        "print(student)"
      ],
      "metadata": {
        "id": "uf8T3QsoSiOD"
      },
      "execution_count": null,
      "outputs": []
    },
    {
      "cell_type": "markdown",
      "source": [],
      "metadata": {
        "id": "Vm_nuibqa4Lh"
      }
    },
    {
      "cell_type": "markdown",
      "source": [],
      "metadata": {
        "id": "WUR4pfdla4QD"
      }
    }
  ]
}